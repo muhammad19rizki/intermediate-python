{
 "metadata": {
  "language_info": {
   "codemirror_mode": {
    "name": "ipython",
    "version": 3
   },
   "file_extension": ".py",
   "mimetype": "text/x-python",
   "name": "python",
   "nbconvert_exporter": "python",
   "pygments_lexer": "ipython3",
   "version": "3.9.0-final"
  },
  "orig_nbformat": 2,
  "kernelspec": {
   "name": "python3",
   "display_name": "Python 3.9.0 64-bit",
   "metadata": {
    "interpreter": {
     "hash": "3e3097152bdc5421e94cf8a7d29a2a91e70c0b9be4bc5f0752ac93b950dd66ef"
    }
   }
  }
 },
 "nbformat": 4,
 "nbformat_minor": 2,
 "cells": [
  {
   "source": [
    "### 1. Find all trips that is greater than 10 miles and originated from New York and Morrisville >\n"
   ],
   "cell_type": "markdown",
   "metadata": {}
  },
  {
   "cell_type": "code",
   "execution_count": 1,
   "metadata": {},
   "outputs": [],
   "source": [
    "import numpy as np\n",
    "import pandas as pd"
   ]
  },
  {
   "cell_type": "code",
   "execution_count": 27,
   "metadata": {},
   "outputs": [
    {
     "output_type": "execute_result",
     "data": {
      "text/plain": [
       "           START_DATE*         END_DATE* CATEGORY*            START*  \\\n",
       "0       1/1/2016 21:11    1/1/2016 21:17  Business       Fort Pierce   \n",
       "1        1/2/2016 1:25     1/2/2016 1:37  Business       Fort Pierce   \n",
       "2       1/2/2016 20:25    1/2/2016 20:38  Business       Fort Pierce   \n",
       "3       1/5/2016 17:31    1/5/2016 17:45  Business       Fort Pierce   \n",
       "4       1/6/2016 14:42    1/6/2016 15:49  Business       Fort Pierce   \n",
       "...                ...               ...       ...               ...   \n",
       "1151  12/31/2016 13:24  12/31/2016 13:42  Business           Kar?chi   \n",
       "1152  12/31/2016 15:03  12/31/2016 15:38  Business  Unknown Location   \n",
       "1153  12/31/2016 21:32  12/31/2016 21:50  Business        Katunayake   \n",
       "1154  12/31/2016 22:08  12/31/2016 23:51  Business           Gampaha   \n",
       "1155            Totals               NaN       NaN               NaN   \n",
       "\n",
       "                 STOP*   MILES*         PURPOSE*  \n",
       "0          Fort Pierce      5.1   Meal/Entertain  \n",
       "1          Fort Pierce      5.0              NaN  \n",
       "2          Fort Pierce      4.8  Errand/Supplies  \n",
       "3          Fort Pierce      4.7          Meeting  \n",
       "4      West Palm Beach     63.7   Customer Visit  \n",
       "...                ...      ...              ...  \n",
       "1151  Unknown Location      3.9   Temporary Site  \n",
       "1152  Unknown Location     16.2          Meeting  \n",
       "1153           Gampaha      6.4   Temporary Site  \n",
       "1154         Ilukwatta     48.2   Temporary Site  \n",
       "1155               NaN  12204.7              NaN  \n",
       "\n",
       "[1156 rows x 7 columns]"
      ],
      "text/html": "<div>\n<style scoped>\n    .dataframe tbody tr th:only-of-type {\n        vertical-align: middle;\n    }\n\n    .dataframe tbody tr th {\n        vertical-align: top;\n    }\n\n    .dataframe thead th {\n        text-align: right;\n    }\n</style>\n<table border=\"1\" class=\"dataframe\">\n  <thead>\n    <tr style=\"text-align: right;\">\n      <th></th>\n      <th>START_DATE*</th>\n      <th>END_DATE*</th>\n      <th>CATEGORY*</th>\n      <th>START*</th>\n      <th>STOP*</th>\n      <th>MILES*</th>\n      <th>PURPOSE*</th>\n    </tr>\n  </thead>\n  <tbody>\n    <tr>\n      <th>0</th>\n      <td>1/1/2016 21:11</td>\n      <td>1/1/2016 21:17</td>\n      <td>Business</td>\n      <td>Fort Pierce</td>\n      <td>Fort Pierce</td>\n      <td>5.1</td>\n      <td>Meal/Entertain</td>\n    </tr>\n    <tr>\n      <th>1</th>\n      <td>1/2/2016 1:25</td>\n      <td>1/2/2016 1:37</td>\n      <td>Business</td>\n      <td>Fort Pierce</td>\n      <td>Fort Pierce</td>\n      <td>5.0</td>\n      <td>NaN</td>\n    </tr>\n    <tr>\n      <th>2</th>\n      <td>1/2/2016 20:25</td>\n      <td>1/2/2016 20:38</td>\n      <td>Business</td>\n      <td>Fort Pierce</td>\n      <td>Fort Pierce</td>\n      <td>4.8</td>\n      <td>Errand/Supplies</td>\n    </tr>\n    <tr>\n      <th>3</th>\n      <td>1/5/2016 17:31</td>\n      <td>1/5/2016 17:45</td>\n      <td>Business</td>\n      <td>Fort Pierce</td>\n      <td>Fort Pierce</td>\n      <td>4.7</td>\n      <td>Meeting</td>\n    </tr>\n    <tr>\n      <th>4</th>\n      <td>1/6/2016 14:42</td>\n      <td>1/6/2016 15:49</td>\n      <td>Business</td>\n      <td>Fort Pierce</td>\n      <td>West Palm Beach</td>\n      <td>63.7</td>\n      <td>Customer Visit</td>\n    </tr>\n    <tr>\n      <th>...</th>\n      <td>...</td>\n      <td>...</td>\n      <td>...</td>\n      <td>...</td>\n      <td>...</td>\n      <td>...</td>\n      <td>...</td>\n    </tr>\n    <tr>\n      <th>1151</th>\n      <td>12/31/2016 13:24</td>\n      <td>12/31/2016 13:42</td>\n      <td>Business</td>\n      <td>Kar?chi</td>\n      <td>Unknown Location</td>\n      <td>3.9</td>\n      <td>Temporary Site</td>\n    </tr>\n    <tr>\n      <th>1152</th>\n      <td>12/31/2016 15:03</td>\n      <td>12/31/2016 15:38</td>\n      <td>Business</td>\n      <td>Unknown Location</td>\n      <td>Unknown Location</td>\n      <td>16.2</td>\n      <td>Meeting</td>\n    </tr>\n    <tr>\n      <th>1153</th>\n      <td>12/31/2016 21:32</td>\n      <td>12/31/2016 21:50</td>\n      <td>Business</td>\n      <td>Katunayake</td>\n      <td>Gampaha</td>\n      <td>6.4</td>\n      <td>Temporary Site</td>\n    </tr>\n    <tr>\n      <th>1154</th>\n      <td>12/31/2016 22:08</td>\n      <td>12/31/2016 23:51</td>\n      <td>Business</td>\n      <td>Gampaha</td>\n      <td>Ilukwatta</td>\n      <td>48.2</td>\n      <td>Temporary Site</td>\n    </tr>\n    <tr>\n      <th>1155</th>\n      <td>Totals</td>\n      <td>NaN</td>\n      <td>NaN</td>\n      <td>NaN</td>\n      <td>NaN</td>\n      <td>12204.7</td>\n      <td>NaN</td>\n    </tr>\n  </tbody>\n</table>\n<p>1156 rows × 7 columns</p>\n</div>"
     },
     "metadata": {},
     "execution_count": 27
    }
   ],
   "source": [
    "uberData = pd.read_csv(\"My Uber Drives - 2016.csv\")\n",
    "uberData"
   ]
  },
  {
   "cell_type": "code",
   "execution_count": 28,
   "metadata": {},
   "outputs": [
    {
     "output_type": "execute_result",
     "data": {
      "text/plain": [
       "          START_DATE*         END_DATE* CATEGORY*       START*  \\\n",
       "10    1/10/2016 15:08   1/10/2016 15:51  Business     New York   \n",
       "22    1/12/2016 16:02   1/12/2016 17:00  Business     New York   \n",
       "97    2/12/2016 11:14   2/12/2016 11:35  Business  Morrisville   \n",
       "100   2/12/2016 15:33   2/12/2016 16:06  Business  Morrisville   \n",
       "106   2/14/2016 16:35   2/14/2016 17:02  Business     New York   \n",
       "388   5/28/2016 14:35   5/28/2016 15:04  Business  Morrisville   \n",
       "423   6/10/2016 15:19   6/10/2016 16:28  Business     New York   \n",
       "545   7/14/2016 16:03   7/14/2016 16:34  Business  Morrisville   \n",
       "546   7/14/2016 16:39   7/14/2016 20:05  Business  Morrisville   \n",
       "587   7/22/2016 15:49   7/22/2016 16:22  Business  Morrisville   \n",
       "604   7/27/2016 21:34   7/27/2016 21:57  Business  Morrisville   \n",
       "884  10/31/2016 18:47  10/31/2016 19:16  Business  Morrisville   \n",
       "\n",
       "                STOP*  MILES*         PURPOSE*  \n",
       "10             Queens    10.8          Meeting  \n",
       "22      Queens County    15.1          Meeting  \n",
       "97            Raleigh    17.0   Customer Visit  \n",
       "100              Cary    11.5   Customer Visit  \n",
       "106  Long Island City    13.0          Meeting  \n",
       "388              Cary    11.3   Customer Visit  \n",
       "423           Jamaica    16.3          Meeting  \n",
       "545       Morrisville    11.8  Errand/Supplies  \n",
       "546        Banner Elk   195.3              NaN  \n",
       "587              Cary    12.2              NaN  \n",
       "604           Raleigh    14.7              NaN  \n",
       "884           Raleigh    10.3              NaN  "
      ],
      "text/html": "<div>\n<style scoped>\n    .dataframe tbody tr th:only-of-type {\n        vertical-align: middle;\n    }\n\n    .dataframe tbody tr th {\n        vertical-align: top;\n    }\n\n    .dataframe thead th {\n        text-align: right;\n    }\n</style>\n<table border=\"1\" class=\"dataframe\">\n  <thead>\n    <tr style=\"text-align: right;\">\n      <th></th>\n      <th>START_DATE*</th>\n      <th>END_DATE*</th>\n      <th>CATEGORY*</th>\n      <th>START*</th>\n      <th>STOP*</th>\n      <th>MILES*</th>\n      <th>PURPOSE*</th>\n    </tr>\n  </thead>\n  <tbody>\n    <tr>\n      <th>10</th>\n      <td>1/10/2016 15:08</td>\n      <td>1/10/2016 15:51</td>\n      <td>Business</td>\n      <td>New York</td>\n      <td>Queens</td>\n      <td>10.8</td>\n      <td>Meeting</td>\n    </tr>\n    <tr>\n      <th>22</th>\n      <td>1/12/2016 16:02</td>\n      <td>1/12/2016 17:00</td>\n      <td>Business</td>\n      <td>New York</td>\n      <td>Queens County</td>\n      <td>15.1</td>\n      <td>Meeting</td>\n    </tr>\n    <tr>\n      <th>97</th>\n      <td>2/12/2016 11:14</td>\n      <td>2/12/2016 11:35</td>\n      <td>Business</td>\n      <td>Morrisville</td>\n      <td>Raleigh</td>\n      <td>17.0</td>\n      <td>Customer Visit</td>\n    </tr>\n    <tr>\n      <th>100</th>\n      <td>2/12/2016 15:33</td>\n      <td>2/12/2016 16:06</td>\n      <td>Business</td>\n      <td>Morrisville</td>\n      <td>Cary</td>\n      <td>11.5</td>\n      <td>Customer Visit</td>\n    </tr>\n    <tr>\n      <th>106</th>\n      <td>2/14/2016 16:35</td>\n      <td>2/14/2016 17:02</td>\n      <td>Business</td>\n      <td>New York</td>\n      <td>Long Island City</td>\n      <td>13.0</td>\n      <td>Meeting</td>\n    </tr>\n    <tr>\n      <th>388</th>\n      <td>5/28/2016 14:35</td>\n      <td>5/28/2016 15:04</td>\n      <td>Business</td>\n      <td>Morrisville</td>\n      <td>Cary</td>\n      <td>11.3</td>\n      <td>Customer Visit</td>\n    </tr>\n    <tr>\n      <th>423</th>\n      <td>6/10/2016 15:19</td>\n      <td>6/10/2016 16:28</td>\n      <td>Business</td>\n      <td>New York</td>\n      <td>Jamaica</td>\n      <td>16.3</td>\n      <td>Meeting</td>\n    </tr>\n    <tr>\n      <th>545</th>\n      <td>7/14/2016 16:03</td>\n      <td>7/14/2016 16:34</td>\n      <td>Business</td>\n      <td>Morrisville</td>\n      <td>Morrisville</td>\n      <td>11.8</td>\n      <td>Errand/Supplies</td>\n    </tr>\n    <tr>\n      <th>546</th>\n      <td>7/14/2016 16:39</td>\n      <td>7/14/2016 20:05</td>\n      <td>Business</td>\n      <td>Morrisville</td>\n      <td>Banner Elk</td>\n      <td>195.3</td>\n      <td>NaN</td>\n    </tr>\n    <tr>\n      <th>587</th>\n      <td>7/22/2016 15:49</td>\n      <td>7/22/2016 16:22</td>\n      <td>Business</td>\n      <td>Morrisville</td>\n      <td>Cary</td>\n      <td>12.2</td>\n      <td>NaN</td>\n    </tr>\n    <tr>\n      <th>604</th>\n      <td>7/27/2016 21:34</td>\n      <td>7/27/2016 21:57</td>\n      <td>Business</td>\n      <td>Morrisville</td>\n      <td>Raleigh</td>\n      <td>14.7</td>\n      <td>NaN</td>\n    </tr>\n    <tr>\n      <th>884</th>\n      <td>10/31/2016 18:47</td>\n      <td>10/31/2016 19:16</td>\n      <td>Business</td>\n      <td>Morrisville</td>\n      <td>Raleigh</td>\n      <td>10.3</td>\n      <td>NaN</td>\n    </tr>\n  </tbody>\n</table>\n</div>"
     },
     "metadata": {},
     "execution_count": 28
    }
   ],
   "source": [
    "uberData = uberData.loc[(uberData['MILES*']>10)&((uberData['START*']==\"New York\")|(uberData['START*']==\"Morrisville\"))]\n",
    "\n",
    "\n",
    "uberData "
   ]
  },
  {
   "source": [
    "## Data Tidak Ada"
   ],
   "cell_type": "markdown",
   "metadata": {}
  }
 ]
}