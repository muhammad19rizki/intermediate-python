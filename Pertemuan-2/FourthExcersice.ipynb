{
 "metadata": {
  "language_info": {
   "codemirror_mode": {
    "name": "ipython",
    "version": 3
   },
   "file_extension": ".py",
   "mimetype": "text/x-python",
   "name": "python",
   "nbconvert_exporter": "python",
   "pygments_lexer": "ipython3",
   "version": "3.9.0-final"
  },
  "orig_nbformat": 2,
  "kernelspec": {
   "name": "python3",
   "display_name": "Python 3.9.0 64-bit",
   "metadata": {
    "interpreter": {
     "hash": "3e3097152bdc5421e94cf8a7d29a2a91e70c0b9be4bc5f0752ac93b950dd66ef"
    }
   }
  }
 },
 "nbformat": 4,
 "nbformat_minor": 2,
 "cells": [
  {
   "cell_type": "code",
   "execution_count": 20,
   "metadata": {},
   "outputs": [],
   "source": [
    "import numpy as np"
   ]
  },
  {
   "source": [
    "### 1. create a null vector / 1D array of size 10 and update fifth value to 11."
   ],
   "cell_type": "markdown",
   "metadata": {}
  },
  {
   "cell_type": "code",
   "execution_count": 62,
   "metadata": {},
   "outputs": [
    {
     "output_type": "stream",
     "name": "stdout",
     "text": [
      "Sebelum\n[0. 0. 0. 0. 0. 0. 0. 0. 0. 0.]\nSesudah\n[ 0.  0.  0.  0. 11.  0.  0.  0.  0.  0.]\n"
     ]
    }
   ],
   "source": [
    "myArr = np.zeros((10), dtype = float)\n",
    "print(\"Sebelum\")\n",
    "print(myArr)\n",
    "\n",
    "myArr[4] = 11\n",
    "print(\"Sesudah\")\n",
    "print(myArr)"
   ]
  },
  {
   "source": [
    "### 2. Write a NumPy program to create a 2x3 arrays and change it into 3x2 arrays"
   ],
   "cell_type": "markdown",
   "metadata": {}
  },
  {
   "cell_type": "code",
   "execution_count": 64,
   "metadata": {},
   "outputs": [
    {
     "output_type": "stream",
     "name": "stdout",
     "text": [
      "Sebelum\n[[1. 2. 3.]\n [4. 5. 6.]]\nSesudah\n[[1. 2.]\n [3. 4.]\n [5. 6.]]\n"
     ]
    }
   ],
   "source": [
    "myArr = np.array([[1,2,3],[4,5,6]], dtype = float)\n",
    "print(\"Sebelum\")\n",
    "print(myArr)\n",
    "\n",
    "myArrReshape = np.reshape(myArr,(3,2))\n",
    "print(\"Sesudah\")\n",
    "print(myArrReshape)"
   ]
  },
  {
   "source": [
    "### 3. Write a NumPy program to create a 2d array with 1 on the border and 0 inside."
   ],
   "cell_type": "markdown",
   "metadata": {}
  },
  {
   "cell_type": "code",
   "execution_count": 85,
   "metadata": {},
   "outputs": [
    {
     "output_type": "stream",
     "name": "stdout",
     "text": [
      "Sebelum\n[[1. 1. 1. 1. 1.]\n [1. 1. 1. 1. 1.]\n [1. 1. 1. 1. 1.]\n [1. 1. 1. 1. 1.]\n [1. 1. 1. 1. 1.]]\nSesudah\n[[1. 1. 1. 1. 1.]\n [1. 0. 0. 0. 1.]\n [1. 0. 0. 0. 1.]\n [1. 0. 0. 0. 1.]\n [1. 1. 1. 1. 1.]]\n"
     ]
    }
   ],
   "source": [
    "myArr = np.ones((5,5), dtype = float)\n",
    "print(\"Sebelum\")\n",
    "print(myArr)\n",
    "\n",
    "print(\"Sesudah\")\n",
    "myArr[1:-1,1:-1] = 0\n",
    "print(myArr)"
   ]
  },
  {
   "source": [
    "### 4. Take a look at the following matrix. Access the 1, 1,2"
   ],
   "cell_type": "markdown",
   "metadata": {}
  },
  {
   "cell_type": "code",
   "execution_count": 87,
   "metadata": {},
   "outputs": [
    {
     "output_type": "execute_result",
     "data": {
      "text/plain": [
       "array([[[ 0,  1,  3],\n",
       "        [ 5,  7,  9],\n",
       "        [ 6,  8, 10]],\n",
       "\n",
       "       [[ 0,  2,  4],\n",
       "        [ 6,  8, 10],\n",
       "        [ 0,  1,  3]],\n",
       "\n",
       "       [[ 1,  1,  2],\n",
       "        [ 5,  2,  9],\n",
       "        [ 1,  3,  3]]])"
      ]
     },
     "metadata": {},
     "execution_count": 87
    }
   ],
   "source": [
    "z = np.array([[[0, 1, 3],\n",
    "               [5, 7, 9],\n",
    "               [6, 8, 10]],\n",
    "              \n",
    "              [[0, 2, 4],\n",
    "               [6, 8, 10],\n",
    "               [0, 1, 3]],\n",
    "             \n",
    "              [[1, 1, 2],\n",
    "               [5, 2, 9],\n",
    "               [1, 3, 3]]])\n",
    "z"
   ]
  },
  {
   "cell_type": "code",
   "execution_count": 97,
   "metadata": {},
   "outputs": [
    {
     "output_type": "execute_result",
     "data": {
      "text/plain": [
       "array([1, 1, 2])"
      ]
     },
     "metadata": {},
     "execution_count": 97
    }
   ],
   "source": [
    "z[2][0]"
   ]
  },
  {
   "cell_type": "code",
   "execution_count": null,
   "metadata": {},
   "outputs": [],
   "source": []
  }
 ]
}